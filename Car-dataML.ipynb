{
 "cells": [
  {
   "metadata": {},
   "cell_type": "markdown",
   "source": [
    "# This is a sample Jupyter Notebook\n",
    "\n",
    "Below is an example of a code cell. \n",
    "Put your cursor into the cell and press Shift+Enter to execute it and select the next one, or click 'Run Cell' button.\n",
    "\n",
    "Press Double Shift to search everywhere for classes, files, tool windows, actions, and settings.\n",
    "\n",
    "To learn more about Jupyter Notebooks in PyCharm, see [help](https://www.jetbrains.com/help/pycharm/ipython-notebook-support.html).\n",
    "For an overview of PyCharm, go to Help -> Learn IDE features or refer to [our documentation](https://www.jetbrains.com/help/pycharm/getting-started.html)."
   ],
   "id": "8a77807f92f26ee"
  },
  {
   "metadata": {
    "ExecuteTime": {
     "end_time": "2025-09-09T04:53:22.549100Z",
     "start_time": "2025-09-09T04:53:22.543637Z"
    }
   },
   "cell_type": "code",
   "source": [
    "from pygments.lexers import q\n",
    "\n",
    "print(\"Hello World!\")"
   ],
   "id": "fbc121e30a2defb3",
   "outputs": [
    {
     "name": "stdout",
     "output_type": "stream",
     "text": [
      "Hello World!\n"
     ]
    }
   ],
   "execution_count": 1
  },
  {
   "metadata": {
    "ExecuteTime": {
     "end_time": "2025-09-09T04:56:17.223749Z",
     "start_time": "2025-09-09T04:56:16.892486Z"
    }
   },
   "cell_type": "code",
   "source": "import pandas as pd",
   "id": "77f6a8f95709867b",
   "outputs": [],
   "execution_count": 2
  },
  {
   "metadata": {
    "ExecuteTime": {
     "end_time": "2025-09-09T04:56:29.186340Z",
     "start_time": "2025-09-09T04:56:29.153491Z"
    }
   },
   "cell_type": "code",
   "source": "df = pd.read_csv(\"data/car_sales_data.csv\")",
   "id": "9d7c8c21bb293af9",
   "outputs": [],
   "execution_count": 3
  },
  {
   "metadata": {
    "ExecuteTime": {
     "end_time": "2025-09-09T04:56:35.425174Z",
     "start_time": "2025-09-09T04:56:35.412324Z"
    }
   },
   "cell_type": "code",
   "source": "df.head()",
   "id": "db988fb6fd5f1929",
   "outputs": [
    {
     "data": {
      "text/plain": [
       "  Manufacturer       Model  Engine size Fuel type  Year of manufacture  \\\n",
       "0         Ford      Fiesta          1.0    Petrol                 2002   \n",
       "1      Porsche  718 Cayman          4.0    Petrol                 2016   \n",
       "2         Ford      Mondeo          1.6    Diesel                 2014   \n",
       "3       Toyota        RAV4          1.8    Hybrid                 1988   \n",
       "4           VW        Polo          1.0    Petrol                 2006   \n",
       "\n",
       "   Mileage  Price  \n",
       "0   127300   3074  \n",
       "1    57850  49704  \n",
       "2    39190  24072  \n",
       "3   210814   1705  \n",
       "4   127869   4101  "
      ],
      "text/html": [
       "<div>\n",
       "<style scoped>\n",
       "    .dataframe tbody tr th:only-of-type {\n",
       "        vertical-align: middle;\n",
       "    }\n",
       "\n",
       "    .dataframe tbody tr th {\n",
       "        vertical-align: top;\n",
       "    }\n",
       "\n",
       "    .dataframe thead th {\n",
       "        text-align: right;\n",
       "    }\n",
       "</style>\n",
       "<table border=\"1\" class=\"dataframe\">\n",
       "  <thead>\n",
       "    <tr style=\"text-align: right;\">\n",
       "      <th></th>\n",
       "      <th>Manufacturer</th>\n",
       "      <th>Model</th>\n",
       "      <th>Engine size</th>\n",
       "      <th>Fuel type</th>\n",
       "      <th>Year of manufacture</th>\n",
       "      <th>Mileage</th>\n",
       "      <th>Price</th>\n",
       "    </tr>\n",
       "  </thead>\n",
       "  <tbody>\n",
       "    <tr>\n",
       "      <th>0</th>\n",
       "      <td>Ford</td>\n",
       "      <td>Fiesta</td>\n",
       "      <td>1.0</td>\n",
       "      <td>Petrol</td>\n",
       "      <td>2002</td>\n",
       "      <td>127300</td>\n",
       "      <td>3074</td>\n",
       "    </tr>\n",
       "    <tr>\n",
       "      <th>1</th>\n",
       "      <td>Porsche</td>\n",
       "      <td>718 Cayman</td>\n",
       "      <td>4.0</td>\n",
       "      <td>Petrol</td>\n",
       "      <td>2016</td>\n",
       "      <td>57850</td>\n",
       "      <td>49704</td>\n",
       "    </tr>\n",
       "    <tr>\n",
       "      <th>2</th>\n",
       "      <td>Ford</td>\n",
       "      <td>Mondeo</td>\n",
       "      <td>1.6</td>\n",
       "      <td>Diesel</td>\n",
       "      <td>2014</td>\n",
       "      <td>39190</td>\n",
       "      <td>24072</td>\n",
       "    </tr>\n",
       "    <tr>\n",
       "      <th>3</th>\n",
       "      <td>Toyota</td>\n",
       "      <td>RAV4</td>\n",
       "      <td>1.8</td>\n",
       "      <td>Hybrid</td>\n",
       "      <td>1988</td>\n",
       "      <td>210814</td>\n",
       "      <td>1705</td>\n",
       "    </tr>\n",
       "    <tr>\n",
       "      <th>4</th>\n",
       "      <td>VW</td>\n",
       "      <td>Polo</td>\n",
       "      <td>1.0</td>\n",
       "      <td>Petrol</td>\n",
       "      <td>2006</td>\n",
       "      <td>127869</td>\n",
       "      <td>4101</td>\n",
       "    </tr>\n",
       "  </tbody>\n",
       "</table>\n",
       "</div>"
      ]
     },
     "execution_count": 4,
     "metadata": {},
     "output_type": "execute_result"
    }
   ],
   "execution_count": 4
  },
  {
   "metadata": {},
   "cell_type": "markdown",
   "source": "Price Prediction",
   "id": "d40020eea6469c96"
  },
  {
   "metadata": {
    "ExecuteTime": {
     "end_time": "2025-09-09T05:02:35.735446Z",
     "start_time": "2025-09-09T05:02:33.051003Z"
    }
   },
   "cell_type": "code",
   "source": "!pip install seaborn",
   "id": "b0c5cab5e71cd16e",
   "outputs": [
    {
     "name": "stdout",
     "output_type": "stream",
     "text": [
      "Collecting seaborn\n",
      "  Downloading seaborn-0.13.2-py3-none-any.whl.metadata (5.4 kB)\n",
      "Requirement already satisfied: numpy!=1.24.0,>=1.20 in c:\\users\\gunit bindal\\pycharmprojects\\jupyterproject\\.venv\\lib\\site-packages (from seaborn) (2.3.2)\n",
      "Requirement already satisfied: pandas>=1.2 in c:\\users\\gunit bindal\\pycharmprojects\\jupyterproject\\.venv\\lib\\site-packages (from seaborn) (2.3.2)\n",
      "Requirement already satisfied: matplotlib!=3.6.1,>=3.4 in c:\\users\\gunit bindal\\pycharmprojects\\jupyterproject\\.venv\\lib\\site-packages (from seaborn) (3.10.6)\n",
      "Requirement already satisfied: contourpy>=1.0.1 in c:\\users\\gunit bindal\\pycharmprojects\\jupyterproject\\.venv\\lib\\site-packages (from matplotlib!=3.6.1,>=3.4->seaborn) (1.3.3)\n",
      "Requirement already satisfied: cycler>=0.10 in c:\\users\\gunit bindal\\pycharmprojects\\jupyterproject\\.venv\\lib\\site-packages (from matplotlib!=3.6.1,>=3.4->seaborn) (0.12.1)\n",
      "Requirement already satisfied: fonttools>=4.22.0 in c:\\users\\gunit bindal\\pycharmprojects\\jupyterproject\\.venv\\lib\\site-packages (from matplotlib!=3.6.1,>=3.4->seaborn) (4.59.2)\n",
      "Requirement already satisfied: kiwisolver>=1.3.1 in c:\\users\\gunit bindal\\pycharmprojects\\jupyterproject\\.venv\\lib\\site-packages (from matplotlib!=3.6.1,>=3.4->seaborn) (1.4.9)\n",
      "Requirement already satisfied: packaging>=20.0 in c:\\users\\gunit bindal\\pycharmprojects\\jupyterproject\\.venv\\lib\\site-packages (from matplotlib!=3.6.1,>=3.4->seaborn) (25.0)\n",
      "Requirement already satisfied: pillow>=8 in c:\\users\\gunit bindal\\pycharmprojects\\jupyterproject\\.venv\\lib\\site-packages (from matplotlib!=3.6.1,>=3.4->seaborn) (11.3.0)\n",
      "Requirement already satisfied: pyparsing>=2.3.1 in c:\\users\\gunit bindal\\pycharmprojects\\jupyterproject\\.venv\\lib\\site-packages (from matplotlib!=3.6.1,>=3.4->seaborn) (3.2.3)\n",
      "Requirement already satisfied: python-dateutil>=2.7 in c:\\users\\gunit bindal\\pycharmprojects\\jupyterproject\\.venv\\lib\\site-packages (from matplotlib!=3.6.1,>=3.4->seaborn) (2.9.0.post0)\n",
      "Requirement already satisfied: pytz>=2020.1 in c:\\users\\gunit bindal\\pycharmprojects\\jupyterproject\\.venv\\lib\\site-packages (from pandas>=1.2->seaborn) (2025.2)\n",
      "Requirement already satisfied: tzdata>=2022.7 in c:\\users\\gunit bindal\\pycharmprojects\\jupyterproject\\.venv\\lib\\site-packages (from pandas>=1.2->seaborn) (2025.2)\n",
      "Requirement already satisfied: six>=1.5 in c:\\users\\gunit bindal\\pycharmprojects\\jupyterproject\\.venv\\lib\\site-packages (from python-dateutil>=2.7->matplotlib!=3.6.1,>=3.4->seaborn) (1.17.0)\n",
      "Downloading seaborn-0.13.2-py3-none-any.whl (294 kB)\n",
      "Installing collected packages: seaborn\n",
      "Successfully installed seaborn-0.13.2\n"
     ]
    }
   ],
   "execution_count": 7
  },
  {
   "metadata": {
    "ExecuteTime": {
     "end_time": "2025-09-09T05:02:42.895803Z",
     "start_time": "2025-09-09T05:02:42.892487Z"
    }
   },
   "cell_type": "code",
   "source": [
    "import numpy as np\n",
    "\n",
    "#visualization\n",
    "import matplotlib.pyplot as plt\n",
    "import seaborn as sns\n",
    "\n",
    "%matplotlib inline"
   ],
   "id": "76751faa79e134fe",
   "outputs": [],
   "execution_count": 9
  },
  {
   "metadata": {
    "ExecuteTime": {
     "end_time": "2025-09-09T05:02:58.685245Z",
     "start_time": "2025-09-09T05:02:58.679501Z"
    }
   },
   "cell_type": "code",
   "source": "df.head()",
   "id": "c1215bfb9e7d610a",
   "outputs": [
    {
     "data": {
      "text/plain": [
       "  Manufacturer       Model  Engine size Fuel type  Year of manufacture  \\\n",
       "0         Ford      Fiesta          1.0    Petrol                 2002   \n",
       "1      Porsche  718 Cayman          4.0    Petrol                 2016   \n",
       "2         Ford      Mondeo          1.6    Diesel                 2014   \n",
       "3       Toyota        RAV4          1.8    Hybrid                 1988   \n",
       "4           VW        Polo          1.0    Petrol                 2006   \n",
       "\n",
       "   Mileage  Price  \n",
       "0   127300   3074  \n",
       "1    57850  49704  \n",
       "2    39190  24072  \n",
       "3   210814   1705  \n",
       "4   127869   4101  "
      ],
      "text/html": [
       "<div>\n",
       "<style scoped>\n",
       "    .dataframe tbody tr th:only-of-type {\n",
       "        vertical-align: middle;\n",
       "    }\n",
       "\n",
       "    .dataframe tbody tr th {\n",
       "        vertical-align: top;\n",
       "    }\n",
       "\n",
       "    .dataframe thead th {\n",
       "        text-align: right;\n",
       "    }\n",
       "</style>\n",
       "<table border=\"1\" class=\"dataframe\">\n",
       "  <thead>\n",
       "    <tr style=\"text-align: right;\">\n",
       "      <th></th>\n",
       "      <th>Manufacturer</th>\n",
       "      <th>Model</th>\n",
       "      <th>Engine size</th>\n",
       "      <th>Fuel type</th>\n",
       "      <th>Year of manufacture</th>\n",
       "      <th>Mileage</th>\n",
       "      <th>Price</th>\n",
       "    </tr>\n",
       "  </thead>\n",
       "  <tbody>\n",
       "    <tr>\n",
       "      <th>0</th>\n",
       "      <td>Ford</td>\n",
       "      <td>Fiesta</td>\n",
       "      <td>1.0</td>\n",
       "      <td>Petrol</td>\n",
       "      <td>2002</td>\n",
       "      <td>127300</td>\n",
       "      <td>3074</td>\n",
       "    </tr>\n",
       "    <tr>\n",
       "      <th>1</th>\n",
       "      <td>Porsche</td>\n",
       "      <td>718 Cayman</td>\n",
       "      <td>4.0</td>\n",
       "      <td>Petrol</td>\n",
       "      <td>2016</td>\n",
       "      <td>57850</td>\n",
       "      <td>49704</td>\n",
       "    </tr>\n",
       "    <tr>\n",
       "      <th>2</th>\n",
       "      <td>Ford</td>\n",
       "      <td>Mondeo</td>\n",
       "      <td>1.6</td>\n",
       "      <td>Diesel</td>\n",
       "      <td>2014</td>\n",
       "      <td>39190</td>\n",
       "      <td>24072</td>\n",
       "    </tr>\n",
       "    <tr>\n",
       "      <th>3</th>\n",
       "      <td>Toyota</td>\n",
       "      <td>RAV4</td>\n",
       "      <td>1.8</td>\n",
       "      <td>Hybrid</td>\n",
       "      <td>1988</td>\n",
       "      <td>210814</td>\n",
       "      <td>1705</td>\n",
       "    </tr>\n",
       "    <tr>\n",
       "      <th>4</th>\n",
       "      <td>VW</td>\n",
       "      <td>Polo</td>\n",
       "      <td>1.0</td>\n",
       "      <td>Petrol</td>\n",
       "      <td>2006</td>\n",
       "      <td>127869</td>\n",
       "      <td>4101</td>\n",
       "    </tr>\n",
       "  </tbody>\n",
       "</table>\n",
       "</div>"
      ]
     },
     "execution_count": 10,
     "metadata": {},
     "output_type": "execute_result"
    }
   ],
   "execution_count": 10
  },
  {
   "metadata": {
    "ExecuteTime": {
     "end_time": "2025-09-09T05:05:10.105776Z",
     "start_time": "2025-09-09T05:05:10.083410Z"
    }
   },
   "cell_type": "code",
   "source": [
    "print(\"shape \", df.shape)\n",
    "\n",
    "print(\"\\ncolumns \", df.columns.tolist())\n",
    "\n",
    "print(\"\\ninfo \")\n",
    "print(df.info())\n",
    "\n",
    "print(\"\\nsummary statistics \")\n",
    "print(df.describe())"
   ],
   "id": "888f6a03aca728d4",
   "outputs": [
    {
     "name": "stdout",
     "output_type": "stream",
     "text": [
      "shape  (50000, 7)\n",
      "\n",
      "columns  ['Manufacturer', 'Model', 'Engine size', 'Fuel type', 'Year of manufacture', 'Mileage', 'Price']\n",
      "\n",
      "info \n",
      "<class 'pandas.core.frame.DataFrame'>\n",
      "RangeIndex: 50000 entries, 0 to 49999\n",
      "Data columns (total 7 columns):\n",
      " #   Column               Non-Null Count  Dtype  \n",
      "---  ------               --------------  -----  \n",
      " 0   Manufacturer         50000 non-null  object \n",
      " 1   Model                50000 non-null  object \n",
      " 2   Engine size          50000 non-null  float64\n",
      " 3   Fuel type            50000 non-null  object \n",
      " 4   Year of manufacture  50000 non-null  int64  \n",
      " 5   Mileage              50000 non-null  int64  \n",
      " 6   Price                50000 non-null  int64  \n",
      "dtypes: float64(1), int64(3), object(3)\n",
      "memory usage: 2.7+ MB\n",
      "None\n",
      "\n",
      "summary statistics \n",
      "        Engine size  Year of manufacture        Mileage          Price\n",
      "count  50000.000000         50000.000000   50000.000000   50000.000000\n",
      "mean       1.773058          2004.209440  112497.320700   13828.903160\n",
      "std        0.734108             9.645965   71632.515602   16416.681336\n",
      "min        1.000000          1984.000000     630.000000      76.000000\n",
      "25%        1.400000          1996.000000   54352.250000    3060.750000\n",
      "50%        1.600000          2004.000000  100987.500000    7971.500000\n",
      "75%        2.000000          2012.000000  158601.000000   19026.500000\n",
      "max        5.000000          2022.000000  453537.000000  168081.000000\n"
     ]
    }
   ],
   "execution_count": 13
  },
  {
   "metadata": {
    "ExecuteTime": {
     "end_time": "2025-09-09T05:04:29.716491Z",
     "start_time": "2025-09-09T05:04:29.708237Z"
    }
   },
   "cell_type": "code",
   "source": "df.isnull().sum()",
   "id": "8a5cdb5136ce3eb4",
   "outputs": [
    {
     "data": {
      "text/plain": [
       "Manufacturer           0\n",
       "Model                  0\n",
       "Engine size            0\n",
       "Fuel type              0\n",
       "Year of manufacture    0\n",
       "Mileage                0\n",
       "Price                  0\n",
       "dtype: int64"
      ]
     },
     "execution_count": 12,
     "metadata": {},
     "output_type": "execute_result"
    }
   ],
   "execution_count": 12
  },
  {
   "metadata": {},
   "cell_type": "markdown",
   "source": "Check for duplicates",
   "id": "19269192de74cd96"
  },
  {
   "metadata": {
    "ExecuteTime": {
     "end_time": "2025-09-09T05:07:18.055208Z",
     "start_time": "2025-09-09T05:07:18.028907Z"
    }
   },
   "cell_type": "code",
   "source": [
    "print(\"Duplicates: \", df.duplicated().sum())\n",
    "\n",
    "df = df.drop_duplicates()"
   ],
   "id": "47afdb8cc5a9fd3e",
   "outputs": [
    {
     "name": "stdout",
     "output_type": "stream",
     "text": [
      "Duplicates:  12\n"
     ]
    }
   ],
   "execution_count": 14
  },
  {
   "metadata": {},
   "cell_type": "markdown",
   "source": "Inspect categorical columns",
   "id": "2b2aab87c6066c72"
  },
  {
   "metadata": {
    "ExecuteTime": {
     "end_time": "2025-09-09T05:11:09.447379Z",
     "start_time": "2025-09-09T05:11:09.435919Z"
    }
   },
   "cell_type": "code",
   "source": [
    "#see unique manufacturers\n",
    "print(\"Manufacturers: \", df[\"Manufacturer\"].nunique())\n",
    "print(df[\"Manufacturer\"].unique()[:10]) #show first 10\n",
    "\n",
    "#see unique models\n",
    "print(\"\\nModels: \", df[\"Model\"].nunique())\n",
    "\n",
    "#see unique fuel types\n",
    "print(\"\\nFuel types: \", df[\"Fuel type\"].unique())"
   ],
   "id": "1db2c2b833659913",
   "outputs": [
    {
     "name": "stdout",
     "output_type": "stream",
     "text": [
      "Manufacturers:  5\n",
      "['Ford' 'Porsche' 'Toyota' 'VW' 'BMW']\n",
      "\n",
      "Models:  15\n",
      "\n",
      "Fuel types:  ['Petrol' 'Diesel' 'Hybrid']\n"
     ]
    }
   ],
   "execution_count": 17
  },
  {
   "metadata": {},
   "cell_type": "markdown",
   "source": "The above data tells us how diverse the dataset is. If dataset is too diverse then it's hard to encode",
   "id": "22b5561626a86440"
  },
  {
   "metadata": {
    "ExecuteTime": {
     "end_time": "2025-09-09T05:13:46.544410Z",
     "start_time": "2025-09-09T05:13:46.535042Z"
    }
   },
   "cell_type": "code",
   "source": [
    "import datetime\n",
    "\n",
    "current_year = datetime.datetime.now().year\n",
    "#create new feature\n",
    "df['Car Age'] = current_year - df[\"Year of manufacture\"]\n",
    "\n",
    "df[['Year of manufacture', \"Car Age\"]].head()"
   ],
   "id": "296b1d5572812d60",
   "outputs": [
    {
     "data": {
      "text/plain": [
       "   Year of manufacture  Car Age\n",
       "0                 2002       23\n",
       "1                 2016        9\n",
       "2                 2014       11\n",
       "3                 1988       37\n",
       "4                 2006       19"
      ],
      "text/html": [
       "<div>\n",
       "<style scoped>\n",
       "    .dataframe tbody tr th:only-of-type {\n",
       "        vertical-align: middle;\n",
       "    }\n",
       "\n",
       "    .dataframe tbody tr th {\n",
       "        vertical-align: top;\n",
       "    }\n",
       "\n",
       "    .dataframe thead th {\n",
       "        text-align: right;\n",
       "    }\n",
       "</style>\n",
       "<table border=\"1\" class=\"dataframe\">\n",
       "  <thead>\n",
       "    <tr style=\"text-align: right;\">\n",
       "      <th></th>\n",
       "      <th>Year of manufacture</th>\n",
       "      <th>Car Age</th>\n",
       "    </tr>\n",
       "  </thead>\n",
       "  <tbody>\n",
       "    <tr>\n",
       "      <th>0</th>\n",
       "      <td>2002</td>\n",
       "      <td>23</td>\n",
       "    </tr>\n",
       "    <tr>\n",
       "      <th>1</th>\n",
       "      <td>2016</td>\n",
       "      <td>9</td>\n",
       "    </tr>\n",
       "    <tr>\n",
       "      <th>2</th>\n",
       "      <td>2014</td>\n",
       "      <td>11</td>\n",
       "    </tr>\n",
       "    <tr>\n",
       "      <th>3</th>\n",
       "      <td>1988</td>\n",
       "      <td>37</td>\n",
       "    </tr>\n",
       "    <tr>\n",
       "      <th>4</th>\n",
       "      <td>2006</td>\n",
       "      <td>19</td>\n",
       "    </tr>\n",
       "  </tbody>\n",
       "</table>\n",
       "</div>"
      ]
     },
     "execution_count": 18,
     "metadata": {},
     "output_type": "execute_result"
    }
   ],
   "execution_count": 18
  },
  {
   "metadata": {},
   "cell_type": "markdown",
   "source": "Outlier detection",
   "id": "c6b002787cb0c756"
  },
  {
   "metadata": {
    "ExecuteTime": {
     "end_time": "2025-09-09T05:15:39.201232Z",
     "start_time": "2025-09-09T05:15:38.914186Z"
    }
   },
   "cell_type": "code",
   "source": [
    "#boxplots for numeric columns\n",
    "numeric_cols = [\"Engine size\", \"Mileage\", \"Price\"]\n",
    "for col in numeric_cols:\n",
    "    plt.figure(figsize=(6,3))\n",
    "    sns.boxplot(x=df[col])\n",
    "    plt.title(f\"Boxplot of {col}\")\n",
    "    plt.show()"
   ],
   "id": "4c2df32920b76d00",
   "outputs": [
    {
     "data": {
      "text/plain": [
       "<Figure size 600x300 with 1 Axes>"
      ],
      "image/png": "[encoded data removed]"
     },
     "metadata": {},
     "output_type": "display_data"
    },
    {
     "data": {
      "text/plain": [
       "<Figure size 600x300 with 1 Axes>"
      ],
      "image/png": "[encoded data removed]"
     },
     "metadata": {},
     "output_type": "display_data"
    },
    {
     "data": {
      "text/plain": [
       "<Figure size 600x300 with 1 Axes>"
      ],
      "image/png": "[encoded data removed]"
     },
     "metadata": {},
     "output_type": "display_data"
    }
   ],
   "execution_count": 19
  },
  {
   "metadata": {},
   "cell_type": "markdown",
   "source": "above plotting shows how the data is",
   "id": "e59a24d0f53660c1"
  },
  {
   "metadata": {},
   "cell_type": "markdown",
   "source": "Transform price & mileage",
   "id": "9f9110fbd931e9ce"
  },
  {
   "metadata": {
    "ExecuteTime": {
     "end_time": "2025-09-09T05:27:30.732235Z",
     "start_time": "2025-09-09T05:27:30.314070Z"
    }
   },
   "cell_type": "code",
   "source": [
    "#apply log transform to skewed columns\n",
    "df[\"Price_log\"] = np.log1p(df[\"Price\"])\n",
    "df[\"Mileage_log\"] = np.log1p(df[\"Mileage\"])\n",
    "\n",
    "#compare distributions before vs after\n",
    "fig, axes = plt.subplots(2, 2, figsize=(12, 6))\n",
    "\n",
    "sns.histplot(df[\"Price\"], bins=50, ax=axes[0,0])\n",
    "axes[0,0].set_title(\"Original Price Distribution\")\n",
    "\n",
    "sns.histplot(df[\"Price_log\"], bins=50, ax=axes[0,1])\n",
    "axes[0,1].set_title(\"Log-Transformed Price\")\n",
    "\n",
    "sns.histplot(df[\"Mileage\"], bins=50, ax=axes[1,0])\n",
    "axes[1,0].set_title(\"Original Mileage Distribution\")\n",
    "\n",
    "sns.histplot(df[\"Mileage_log\"], bins=50, ax=axes[1,1])\n",
    "axes[1,1].set_title(\"Log-Transformed Mileage Distribution\")\n",
    "\n",
    "plt.tight_layout()\n",
    "plt.show()"
   ],
   "id": "52b596d66fa4d6e6",
   "outputs": [
    {
     "data": {
      "text/plain": [
       "<Figure size 1200x600 with 4 Axes>"
      ],
      "image/png": "[encoded data removed]"
     },
     "metadata": {},
     "output_type": "display_data"
    }
   ],
   "execution_count": 20
  },
  {
   "metadata": {},
   "cell_type": "markdown",
   "source": "Feature Preparation",
   "id": "798a3f2f342f14b9"
  },
  {
   "metadata": {
    "ExecuteTime": {
     "end_time": "2025-09-09T05:33:42.527800Z",
     "start_time": "2025-09-09T05:33:42.519567Z"
    }
   },
   "cell_type": "code",
   "source": [
    "print(\"Manufacturers: \", df['Manufacturer'].nunique())\n",
    "print(\"Models: \", df['Model'].nunique())\n",
    "print(\"Fuel Types: \", df[\"Fuel type\"].nunique())"
   ],
   "id": "bc64a8e724d45eef",
   "outputs": [
    {
     "name": "stdout",
     "output_type": "stream",
     "text": [
      "Manufacturers:  5\n",
      "Models:  15\n",
      "Fuel Types:  3\n"
     ]
    }
   ],
   "execution_count": 23
  },
  {
   "metadata": {
    "ExecuteTime": {
     "end_time": "2025-09-09T05:34:48.581320Z",
     "start_time": "2025-09-09T05:34:48.565220Z"
    }
   },
   "cell_type": "code",
   "source": "df_encoded = pd.get_dummies(df, columns=[\"Manufacturer\", \"Model\", \"Fuel type\"], drop_first=True)",
   "id": "6497be7ee470352a",
   "outputs": [],
   "execution_count": 24
  },
  {
   "metadata": {
    "ExecuteTime": {
     "end_time": "2025-09-09T05:36:20.651689Z",
     "start_time": "2025-09-09T05:36:20.647483Z"
    }
   },
   "cell_type": "code",
   "source": [
    "#define features\n",
    "\n",
    "# Features: everything except price columns\n",
    "X = df_encoded.drop(columns=[\"Price\", \"Price_log\"])\n",
    "\n",
    "# Target: log-transformed price\n",
    "y = df_encoded[\"Price_log\"]"
   ],
   "id": "fb80dddc7a7758c4",
   "outputs": [],
   "execution_count": 27
  },
  {
   "metadata": {},
   "cell_type": "markdown",
   "source": "Train Test split",
   "id": "3de09fe5cb2d1917"
  },
  {
   "metadata": {
    "ExecuteTime": {
     "end_time": "2025-09-09T05:38:17.986392Z",
     "start_time": "2025-09-09T05:37:38.586432Z"
    }
   },
   "cell_type": "code",
   "source": [
    "# !pip install scikit-learn\n",
    "from sklearn.model_selection import train_test_split"
   ],
   "id": "a68d4b42535b4c20",
   "outputs": [
    {
     "name": "stdout",
     "output_type": "stream",
     "text": [
      "Collecting scikit-learn\n",
      "  Using cached scikit_learn-1.7.1-cp311-cp311-win_amd64.whl.metadata (11 kB)\n",
      "Requirement already satisfied: numpy>=1.22.0 in c:\\users\\gunit bindal\\pycharmprojects\\jupyterproject\\.venv\\lib\\site-packages (from scikit-learn) (2.3.2)\n",
      "Collecting scipy>=1.8.0 (from scikit-learn)\n",
      "  Using cached scipy-1.16.1-cp311-cp311-win_amd64.whl.metadata (60 kB)\n",
      "Collecting joblib>=1.2.0 (from scikit-learn)\n",
      "  Using cached joblib-1.5.2-py3-none-any.whl.metadata (5.6 kB)\n",
      "Collecting threadpoolctl>=3.1.0 (from scikit-learn)\n",
      "  Using cached threadpoolctl-3.6.0-py3-none-any.whl.metadata (13 kB)\n",
      "Using cached scikit_learn-1.7.1-cp311-cp311-win_amd64.whl (8.9 MB)\n",
      "Using cached joblib-1.5.2-py3-none-any.whl (308 kB)\n",
      "Using cached scipy-1.16.1-cp311-cp311-win_amd64.whl (38.6 MB)\n",
      "Using cached threadpoolctl-3.6.0-py3-none-any.whl (18 kB)\n",
      "Installing collected packages: threadpoolctl, scipy, joblib, scikit-learn\n",
      "\n",
      "   ---------- ----------------------------- 1/4 [scipy]\n",
      "   ---------- ----------------------------- 1/4 [scipy]\n",
      "   ---------- ----------------------------- 1/4 [scipy]\n",
      "   ---------- ----------------------------- 1/4 [scipy]\n",
      "   ---------- ----------------------------- 1/4 [scipy]\n",
      "   ---------- ----------------------------- 1/4 [scipy]\n",
      "   ---------- ----------------------------- 1/4 [scipy]\n",
      "   ---------- ----------------------------- 1/4 [scipy]\n",
      "   ---------- ----------------------------- 1/4 [scipy]\n",
      "   ---------- ----------------------------- 1/4 [scipy]\n",
      "   ---------- ----------------------------- 1/4 [scipy]\n",
      "   ---------- ----------------------------- 1/4 [scipy]\n",
      "   ---------- ----------------------------- 1/4 [scipy]\n",
      "   ---------- ----------------------------- 1/4 [scipy]\n",
      "   ---------- ----------------------------- 1/4 [scipy]\n",
      "   ---------- ----------------------------- 1/4 [scipy]\n",
      "   ---------- ----------------------------- 1/4 [scipy]\n",
      "   ---------- ----------------------------- 1/4 [scipy]\n",
      "   ---------- ----------------------------- 1/4 [scipy]\n",
      "   ---------- ----------------------------- 1/4 [scipy]\n",
      "   ---------- ----------------------------- 1/4 [scipy]\n",
      "   ---------- ----------------------------- 1/4 [scipy]\n",
      "   ---------- ----------------------------- 1/4 [scipy]\n",
      "   ---------- ----------------------------- 1/4 [scipy]\n",
      "   ---------- ----------------------------- 1/4 [scipy]\n",
      "   ---------- ----------------------------- 1/4 [scipy]\n",
      "   ---------- ----------------------------- 1/4 [scipy]\n",
      "   ---------- ----------------------------- 1/4 [scipy]\n",
      "   ---------- ----------------------------- 1/4 [scipy]\n",
      "   ---------- ----------------------------- 1/4 [scipy]\n",
      "   ---------- ----------------------------- 1/4 [scipy]\n",
      "   ---------- ----------------------------- 1/4 [scipy]\n",
      "   ---------- ----------------------------- 1/4 [scipy]\n",
      "   ---------- ----------------------------- 1/4 [scipy]\n",
      "   ---------- ----------------------------- 1/4 [scipy]\n",
      "   ---------- ----------------------------- 1/4 [scipy]\n",
      "   ---------- ----------------------------- 1/4 [scipy]\n",
      "   ---------- ----------------------------- 1/4 [scipy]\n",
      "   ---------- ----------------------------- 1/4 [scipy]\n",
      "   ---------- ----------------------------- 1/4 [scipy]\n",
      "   ---------- ----------------------------- 1/4 [scipy]\n",
      "   ---------- ----------------------------- 1/4 [scipy]\n",
      "   ---------- ----------------------------- 1/4 [scipy]\n",
      "   ---------- ----------------------------- 1/4 [scipy]\n",
      "   ---------- ----------------------------- 1/4 [scipy]\n",
      "   ---------- ----------------------------- 1/4 [scipy]\n",
      "   ---------- ----------------------------- 1/4 [scipy]\n",
      "   ---------- ----------------------------- 1/4 [scipy]\n",
      "   ---------- ----------------------------- 1/4 [scipy]\n",
      "   ---------- ----------------------------- 1/4 [scipy]\n",
      "   ---------- ----------------------------- 1/4 [scipy]\n",
      "   ---------- ----------------------------- 1/4 [scipy]\n",
      "   ---------- ----------------------------- 1/4 [scipy]\n",
      "   ---------- ----------------------------- 1/4 [scipy]\n",
      "   ---------- ----------------------------- 1/4 [scipy]\n",
      "   ---------- ----------------------------- 1/4 [scipy]\n",
      "   ---------- ----------------------------- 1/4 [scipy]\n",
      "   ---------- ----------------------------- 1/4 [scipy]\n",
      "   ---------- ----------------------------- 1/4 [scipy]\n",
      "   ---------- ----------------------------- 1/4 [scipy]\n",
      "   ---------- ----------------------------- 1/4 [scipy]\n",
      "   ---------- ----------------------------- 1/4 [scipy]\n",
      "   ---------- ----------------------------- 1/4 [scipy]\n",
      "   ---------- ----------------------------- 1/4 [scipy]\n",
      "   ---------- ----------------------------- 1/4 [scipy]\n",
      "   ---------- ----------------------------- 1/4 [scipy]\n",
      "   ---------- ----------------------------- 1/4 [scipy]\n",
      "   ---------- ----------------------------- 1/4 [scipy]\n",
      "   ---------- ----------------------------- 1/4 [scipy]\n",
      "   ---------- ----------------------------- 1/4 [scipy]\n",
      "   ---------- ----------------------------- 1/4 [scipy]\n",
      "   ---------- ----------------------------- 1/4 [scipy]\n",
      "   ---------- ----------------------------- 1/4 [scipy]\n",
      "   ---------- ----------------------------- 1/4 [scipy]\n",
      "   ---------- ----------------------------- 1/4 [scipy]\n",
      "   ---------- ----------------------------- 1/4 [scipy]\n",
      "   ---------- ----------------------------- 1/4 [scipy]\n",
      "   ---------- ----------------------------- 1/4 [scipy]\n",
      "   ---------- ----------------------------- 1/4 [scipy]\n",
      "   ---------- ----------------------------- 1/4 [scipy]\n",
      "   ---------- ----------------------------- 1/4 [scipy]\n",
      "   ---------- ----------------------------- 1/4 [scipy]\n",
      "   ---------- ----------------------------- 1/4 [scipy]\n",
      "   ---------- ----------------------------- 1/4 [scipy]\n",
      "   ---------- ----------------------------- 1/4 [scipy]\n",
      "   ---------- ----------------------------- 1/4 [scipy]\n",
      "   ---------- ----------------------------- 1/4 [scipy]\n",
      "   ---------- ----------------------------- 1/4 [scipy]\n",
      "   ---------- ----------------------------- 1/4 [scipy]\n",
      "   ---------- ----------------------------- 1/4 [scipy]\n",
      "   ---------- ----------------------------- 1/4 [scipy]\n",
      "   ---------- ----------------------------- 1/4 [scipy]\n",
      "   ---------- ----------------------------- 1/4 [scipy]\n",
      "   ---------- ----------------------------- 1/4 [scipy]\n",
      "   ---------- ----------------------------- 1/4 [scipy]\n",
      "   ---------- ----------------------------- 1/4 [scipy]\n",
      "   ---------- ----------------------------- 1/4 [scipy]\n",
      "   ---------- ----------------------------- 1/4 [scipy]\n",
      "   ---------- ----------------------------- 1/4 [scipy]\n",
      "   ---------- ----------------------------- 1/4 [scipy]\n",
      "   ---------- ----------------------------- 1/4 [scipy]\n",
      "   ---------- ----------------------------- 1/4 [scipy]\n",
      "   ---------- ----------------------------- 1/4 [scipy]\n",
      "   ---------- ----------------------------- 1/4 [scipy]\n",
      "   ---------- ----------------------------- 1/4 [scipy]\n",
      "   ---------- ----------------------------- 1/4 [scipy]\n",
      "   ---------- ----------------------------- 1/4 [scipy]\n",
      "   ---------- ----------------------------- 1/4 [scipy]\n",
      "   ---------- ----------------------------- 1/4 [scipy]\n",
      "   ---------- ----------------------------- 1/4 [scipy]\n",
      "   ---------- ----------------------------- 1/4 [scipy]\n",
      "   ---------- ----------------------------- 1/4 [scipy]\n",
      "   ---------- ----------------------------- 1/4 [scipy]\n",
      "   ---------- ----------------------------- 1/4 [scipy]\n",
      "   ---------- ----------------------------- 1/4 [scipy]\n",
      "   ---------- ----------------------------- 1/4 [scipy]\n",
      "   ---------- ----------------------------- 1/4 [scipy]\n",
      "   ---------- ----------------------------- 1/4 [scipy]\n",
      "   ---------- ----------------------------- 1/4 [scipy]\n",
      "   ---------- ----------------------------- 1/4 [scipy]\n",
      "   ---------- ----------------------------- 1/4 [scipy]\n",
      "   ---------- ----------------------------- 1/4 [scipy]\n",
      "   ---------- ----------------------------- 1/4 [scipy]\n",
      "   -------------------- ------------------- 2/4 [joblib]\n",
      "   -------------------- ------------------- 2/4 [joblib]\n",
      "   -------------------- ------------------- 2/4 [joblib]\n",
      "   -------------------- ------------------- 2/4 [joblib]\n",
      "   -------------------- ------------------- 2/4 [joblib]\n",
      "   -------------------- ------------------- 2/4 [joblib]\n",
      "   -------------------- ------------------- 2/4 [joblib]\n",
      "   -------------------- ------------------- 2/4 [joblib]\n",
      "   ------------------------------ --------- 3/4 [scikit-learn]\n",
      "   ------------------------------ --------- 3/4 [scikit-learn]\n",
      "   ------------------------------ --------- 3/4 [scikit-learn]\n",
      "   ------------------------------ --------- 3/4 [scikit-learn]\n",
      "   ------------------------------ --------- 3/4 [scikit-learn]\n",
      "   ------------------------------ --------- 3/4 [scikit-learn]\n",
      "   ------------------------------ --------- 3/4 [scikit-learn]\n",
      "   ------------------------------ --------- 3/4 [scikit-learn]\n",
      "   ------------------------------ --------- 3/4 [scikit-learn]\n",
      "   ------------------------------ --------- 3/4 [scikit-learn]\n",
      "   ------------------------------ --------- 3/4 [scikit-learn]\n",
      "   ------------------------------ --------- 3/4 [scikit-learn]\n",
      "   ------------------------------ --------- 3/4 [scikit-learn]\n",
      "   ------------------------------ --------- 3/4 [scikit-learn]\n",
      "   ------------------------------ --------- 3/4 [scikit-learn]\n",
      "   ------------------------------ --------- 3/4 [scikit-learn]\n",
      "   ------------------------------ --------- 3/4 [scikit-learn]\n",
      "   ------------------------------ --------- 3/4 [scikit-learn]\n",
      "   ------------------------------ --------- 3/4 [scikit-learn]\n",
      "   ------------------------------ --------- 3/4 [scikit-learn]\n",
      "   ------------------------------ --------- 3/4 [scikit-learn]\n",
      "   ------------------------------ --------- 3/4 [scikit-learn]\n",
      "   ------------------------------ --------- 3/4 [scikit-learn]\n",
      "   ------------------------------ --------- 3/4 [scikit-learn]\n",
      "   ------------------------------ --------- 3/4 [scikit-learn]\n",
      "   ------------------------------ --------- 3/4 [scikit-learn]\n",
      "   ------------------------------ --------- 3/4 [scikit-learn]\n",
      "   ------------------------------ --------- 3/4 [scikit-learn]\n",
      "   ------------------------------ --------- 3/4 [scikit-learn]\n",
      "   ------------------------------ --------- 3/4 [scikit-learn]\n",
      "   ------------------------------ --------- 3/4 [scikit-learn]\n",
      "   ------------------------------ --------- 3/4 [scikit-learn]\n",
      "   ------------------------------ --------- 3/4 [scikit-learn]\n",
      "   ------------------------------ --------- 3/4 [scikit-learn]\n",
      "   ------------------------------ --------- 3/4 [scikit-learn]\n",
      "   ------------------------------ --------- 3/4 [scikit-learn]\n",
      "   ------------------------------ --------- 3/4 [scikit-learn]\n",
      "   ------------------------------ --------- 3/4 [scikit-learn]\n",
      "   ------------------------------ --------- 3/4 [scikit-learn]\n",
      "   ------------------------------ --------- 3/4 [scikit-learn]\n",
      "   ------------------------------ --------- 3/4 [scikit-learn]\n",
      "   ------------------------------ --------- 3/4 [scikit-learn]\n",
      "   ------------------------------ --------- 3/4 [scikit-learn]\n",
      "   ------------------------------ --------- 3/4 [scikit-learn]\n",
      "   ------------------------------ --------- 3/4 [scikit-learn]\n",
      "   ------------------------------ --------- 3/4 [scikit-learn]\n",
      "   ------------------------------ --------- 3/4 [scikit-learn]\n",
      "   ------------------------------ --------- 3/4 [scikit-learn]\n",
      "   ------------------------------ --------- 3/4 [scikit-learn]\n",
      "   ------------------------------ --------- 3/4 [scikit-learn]\n",
      "   ------------------------------ --------- 3/4 [scikit-learn]\n",
      "   ------------------------------ --------- 3/4 [scikit-learn]\n",
      "   ------------------------------ --------- 3/4 [scikit-learn]\n",
      "   ------------------------------ --------- 3/4 [scikit-learn]\n",
      "   ------------------------------ --------- 3/4 [scikit-learn]\n",
      "   ------------------------------ --------- 3/4 [scikit-learn]\n",
      "   ------------------------------ --------- 3/4 [scikit-learn]\n",
      "   ------------------------------ --------- 3/4 [scikit-learn]\n",
      "   ------------------------------ --------- 3/4 [scikit-learn]\n",
      "   ------------------------------ --------- 3/4 [scikit-learn]\n",
      "   ------------------------------ --------- 3/4 [scikit-learn]\n",
      "   ------------------------------ --------- 3/4 [scikit-learn]\n",
      "   ------------------------------ --------- 3/4 [scikit-learn]\n",
      "   ------------------------------ --------- 3/4 [scikit-learn]\n",
      "   ------------------------------ --------- 3/4 [scikit-learn]\n",
      "   ------------------------------ --------- 3/4 [scikit-learn]\n",
      "   ------------------------------ --------- 3/4 [scikit-learn]\n",
      "   ------------------------------ --------- 3/4 [scikit-learn]\n",
      "   ------------------------------ --------- 3/4 [scikit-learn]\n",
      "   ------------------------------ --------- 3/4 [scikit-learn]\n",
      "   ------------------------------ --------- 3/4 [scikit-learn]\n",
      "   ------------------------------ --------- 3/4 [scikit-learn]\n",
      "   ------------------------------ --------- 3/4 [scikit-learn]\n",
      "   ------------------------------ --------- 3/4 [scikit-learn]\n",
      "   ------------------------------ --------- 3/4 [scikit-learn]\n",
      "   ---------------------------------------- 4/4 [scikit-learn]\n",
      "\n",
      "Successfully installed joblib-1.5.2 scikit-learn-1.7.1 scipy-1.16.1 threadpoolctl-3.6.0\n"
     ]
    }
   ],
   "execution_count": 30
  },
  {
   "metadata": {
    "ExecuteTime": {
     "end_time": "2025-09-09T05:39:21.434769Z",
     "start_time": "2025-09-09T05:39:21.423667Z"
    }
   },
   "cell_type": "code",
   "source": [
    "X_train, X_test, y_train, y_test = train_test_split(X, y, test_size=0.2, random_state=22)\n",
    "\n",
    "print(\"Train shape:\", X_train.shape)\n",
    "print(\"Test shape:\", X_test.shape)"
   ],
   "id": "7c4b50a43e824b7",
   "outputs": [
    {
     "name": "stdout",
     "output_type": "stream",
     "text": [
      "Train shape: (39990, 25)\n",
      "Test shape: (9998, 25)\n"
     ]
    }
   ],
   "execution_count": 31
  },
  {
   "metadata": {
    "ExecuteTime": {
     "end_time": "2025-09-09T05:45:04.398454Z",
     "start_time": "2025-09-09T05:45:04.370679Z"
    }
   },
   "cell_type": "code",
   "source": [
    "from sklearn.linear_model import LinearRegression\n",
    "from sklearn.metrics import mean_squared_error, r2_score\n",
    "import numpy as np\n",
    "\n",
    "lr = LinearRegression()\n",
    "\n",
    "lr.fit(X_train, y_train)\n",
    "\n",
    "y_pred = lr.predict(X_test)\n",
    "\n",
    "mse = mean_squared_error(y_test, y_pred)\n",
    "rmse = np.sqrt(mse)\n",
    "r2 = r2_score(y_test, y_pred)\n",
    "\n",
    "print(\"Model performance on test set: \")\n",
    "print(f\"RMSE: {rmse:.2f}\")\n",
    "print(f\"R² Score: {r2:.3f}\")"
   ],
   "id": "ed298a9a2d784b82",
   "outputs": [
    {
     "name": "stdout",
     "output_type": "stream",
     "text": [
      "Model performance on test set: \n",
      "RMSE: 0.04\n",
      "R² Score: 0.999\n"
     ]
    }
   ],
   "execution_count": 33
  },
  {
   "metadata": {},
   "cell_type": "markdown",
   "source": "Extra: Looking at coefficients",
   "id": "adb4e25a01377bf3"
  },
  {
   "metadata": {
    "ExecuteTime": {
     "end_time": "2025-09-09T05:46:42.790456Z",
     "start_time": "2025-09-09T05:46:42.783486Z"
    }
   },
   "cell_type": "code",
   "source": [
    "coeffs = pd.DataFrame({\n",
    "    \"Feature\": X_train.columns,\n",
    "    \"Coefficient\": lr.coef_\n",
    "}).sort_values(by=\"Coefficient\", ascending=False)\n",
    "\n",
    "print(coeffs.head(10))\n",
    "print(coeffs.head(10))"
   ],
   "id": "da8cd9ebd790c4f6",
   "outputs": [
    {
     "name": "stdout",
     "output_type": "stream",
     "text": [
      "                 Feature  Coefficient\n",
      "9              Model_911     0.580545\n",
      "14              Model_M5     0.331376\n",
      "0            Engine size     0.270032\n",
      "19            Model_RAV4     0.187336\n",
      "16          Model_Passat     0.147230\n",
      "10         Model_Cayenne     0.135478\n",
      "23      Fuel type_Hybrid     0.134468\n",
      "6   Manufacturer_Porsche     0.125620\n",
      "4            Mileage_log     0.114834\n",
      "15          Model_Mondeo     0.075107\n",
      "                 Feature  Coefficient\n",
      "9              Model_911     0.580545\n",
      "14              Model_M5     0.331376\n",
      "0            Engine size     0.270032\n",
      "19            Model_RAV4     0.187336\n",
      "16          Model_Passat     0.147230\n",
      "10         Model_Cayenne     0.135478\n",
      "23      Fuel type_Hybrid     0.134468\n",
      "6   Manufacturer_Porsche     0.125620\n",
      "4            Mileage_log     0.114834\n",
      "15          Model_Mondeo     0.075107\n"
     ]
    }
   ],
   "execution_count": 34
  },
  {
   "metadata": {},
   "cell_type": "markdown",
   "source": "Why use log\n",
   "id": "9363982f129cc101"
  },
  {
   "metadata": {
    "ExecuteTime": {
     "end_time": "2025-09-09T05:53:47.204866Z",
     "start_time": "2025-09-09T05:53:47.074811Z"
    }
   },
   "cell_type": "code",
   "source": [
    "import numpy as np\n",
    "import matplotlib.pyplot as plt\n",
    "\n",
    "prices = np.array([1000, 5000, 10000, 20000, 50000, 100000])\n",
    "prices_log = np.log1p(prices)\n",
    "\n",
    "plt.figure(figsize=(10,4))\n",
    "\n",
    "# Original\n",
    "plt.subplot(1,2,1)\n",
    "plt.plot(prices, 'o-')\n",
    "plt.title(\"Original Price Scale\")\n",
    "plt.ylabel(\"Price ($)\")\n",
    "\n",
    "# Log-transformed\n",
    "plt.subplot(1,2,2)\n",
    "plt.plot(prices_log, 'o-')\n",
    "plt.title(\"Log-Transformed Price\")\n",
    "plt.ylabel(\"Log(1 + Price)\")\n",
    "\n",
    "plt.tight_layout()\n",
    "plt.show()\n"
   ],
   "id": "c5d5268c65f3546b",
   "outputs": [
    {
     "data": {
      "text/plain": [
       "<Figure size 1000x400 with 2 Axes>"
      ],
      "image/png": "[encoded data removed]"
     },
     "metadata": {},
     "output_type": "display_data"
    }
   ],
   "execution_count": 35
  },
  {
   "metadata": {},
   "cell_type": "markdown",
   "source": "Convert Predictions to Dollar and Evaluate",
   "id": "93bfe2e8df03bef9"
  },
  {
   "metadata": {
    "ExecuteTime": {
     "end_time": "2025-09-09T05:58:57.205037Z",
     "start_time": "2025-09-09T05:58:57.198841Z"
    }
   },
   "cell_type": "code",
   "source": [
    "from sklearn.metrics import mean_squared_error, r2_score\n",
    "import numpy as np\n",
    "\n",
    "y_pred_dollars = np.expm1(y_pred)\n",
    "y_test_dollars = np.expm1(y_test)\n",
    "\n",
    "mse_dollars = mean_squared_error(y_test_dollars, y_pred_dollars)\n",
    "rmse_dollars = np.sqrt(mse_dollars)\n",
    "r2_dollars = r2_score(y_test_dollars, y_pred_dollars)\n",
    "\n",
    "print(\"Model Performance on Original Dollar Scale: \")\n",
    "print(f\"RMSE: {rmse_dollars:.2f}\")\n",
    "print(f\"R2 Score: {r2_dollars:.2f}\")"
   ],
   "id": "a66602322c46f827",
   "outputs": [
    {
     "name": "stdout",
     "output_type": "stream",
     "text": [
      "Model Performance on Original Dollar Scale: \n",
      "RMSE: 1236.11\n",
      "R2 Score: 0.99\n"
     ]
    }
   ],
   "execution_count": 38
  },
  {
   "metadata": {},
   "cell_type": "markdown",
   "source": "Visualize Predictions vs Actual Prices",
   "id": "148cf8f843842af5"
  },
  {
   "metadata": {
    "ExecuteTime": {
     "end_time": "2025-09-09T06:05:36.780398Z",
     "start_time": "2025-09-09T06:05:36.687599Z"
    }
   },
   "cell_type": "code",
   "source": [
    "plt.figure(figsize=(8,6))\n",
    "plt.scatter(y_test_dollars, y_pred_dollars, alpha=0.5)\n",
    "plt.plot([0, max(y_test_dollars)], [0, max(y_test_dollars)], color='red', linestyle='--')\n",
    "plt.xlabel(\"Actual Price ($)\")\n",
    "plt.ylabel(\"Predicted Price ($)\")\n",
    "plt.title(\"Predicted vs Actual Car Prices\")\n",
    "plt.show()\n"
   ],
   "id": "1c75bff27154abd3",
   "outputs": [
    {
     "data": {
      "text/plain": [
       "<Figure size 800x600 with 1 Axes>"
      ],
      "image/png": "[encoded data removed]"
     },
     "metadata": {},
     "output_type": "display_data"
    }
   ],
   "execution_count": 43
  },
  {
   "metadata": {},
   "cell_type": "markdown",
   "source": [
    "Project 2 - Exploratory Data Analysis\n",
    "\n",
    "This project is less about prediction and more about finding patterns in data\n",
    "\n",
    "For this project we will find\n",
    "\n",
    "1. Which manufacturer tends to have the most expensive cars?\n",
    "2. How does mileage affect price across different fuel types?\n",
    "3. What is the distribution of car ages?\n",
    "4. Which features correlate most with price?"
   ],
   "id": "bc8d93618e22f825"
  },
  {
   "metadata": {},
   "cell_type": "code",
   "outputs": [],
   "execution_count": null,
   "source": "",
   "id": "98cf2042a444e181"
  }
 ],
 "metadata": {
  "kernelspec": {
   "display_name": "Python 3",
   "language": "python",
   "name": "python3"
  },
  "language_info": {
   "codemirror_mode": {
    "name": "ipython",
    "version": 2
   },
   "file_extension": ".py",
   "mimetype": "text/x-python",
   "name": "python",
   "nbconvert_exporter": "python",
   "pygments_lexer": "ipython2",
   "version": "2.7.6"
  }
 },
 "nbformat": 4,
 "nbformat_minor": 5
}
